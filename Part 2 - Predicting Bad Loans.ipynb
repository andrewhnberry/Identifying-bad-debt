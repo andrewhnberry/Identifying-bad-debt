{
 "cells": [
  {
   "cell_type": "markdown",
   "metadata": {},
   "source": [
    "## Part 2 - Predicting Bad Loans vs Good Loans\n",
    "\n",
    "There is plenty of different machine learning problems we could tackle with this [lending club dataset](https://www.kaggle.com/wendykan/lending-club-loan-data).\n",
    "\n",
    "I do plan on doing more than just one machine learning problem. However, for the first one my goal is to figure out how to predict **bad debt vs good debt**. This is a **classic classification problem**, and I will use various classification models to tackle this problem.\n",
    "\n",
    "**Target Variable:** loan_status"
   ]
  },
  {
   "cell_type": "code",
   "execution_count": null,
   "metadata": {},
   "outputs": [],
   "source": [
    "#importing the holy trinity of data science plugins\n",
    "import pandas as pd\n",
    "pd.set_option('display.max_columns', None)\n",
    "pd.set_option('display.max_rows', None)\n",
    "import numpy as np\n",
    "import matplotlib.pyplot as plt \n",
    "\n",
    "#Importing\n",
    "\n",
    "import warnings\n",
    "warnings.filterwarnings(\"ignore\")"
   ]
  },
  {
   "cell_type": "markdown",
   "metadata": {},
   "source": [
    "### Step 1: Data Cleaning\n",
    "\n",
    "I will do some light data cleaning, at some point I will just make a python script once I start having more notebooks with different problems to tackle. For now It will be located in this notebook. "
   ]
  },
  {
   "cell_type": "code",
   "execution_count": null,
   "metadata": {},
   "outputs": [],
   "source": [
    "df = pd.read_csv('/Users/andrewberry/Downloads/lending-club-loan-data/loan.csv', low_memory=False)"
   ]
  },
  {
   "cell_type": "code",
   "execution_count": null,
   "metadata": {},
   "outputs": [],
   "source": [
    "# Removing columns that represent information that is not necessary or \n",
    "# information available to lender prior to lending the loan\n",
    "df = df.drop(['total_pymnt_inv','total_pymnt',\n",
    "              'debt_settlement_flag','out_prncp',\n",
    "              'last_pymnt_d','last_pymnt_amnt',\n",
    "              'out_prncp_inv','total_rec_int',\n",
    "              'total_rec_late_fee','recoveries',\n",
    "              'collection_recovery_fee','total_rec_prncp',\n",
    "              'total_rev_hi_lim','total_rec_int']\n",
    "             ,axis = 1)"
   ]
  },
  {
   "cell_type": "code",
   "execution_count": null,
   "metadata": {},
   "outputs": [],
   "source": [
    "#Dropping features with 30% or more missing data\n",
    "df.dropna(thresh = 0.7*(len(df)), axis = 1, inplace = True)"
   ]
  },
  {
   "cell_type": "code",
   "execution_count": null,
   "metadata": {},
   "outputs": [],
   "source": [
    "#New Column representing year\n",
    "df['year'] = pd.to_datetime(df.issue_d).dt.year"
   ]
  },
  {
   "cell_type": "code",
   "execution_count": null,
   "metadata": {},
   "outputs": [],
   "source": []
  },
  {
   "cell_type": "code",
   "execution_count": null,
   "metadata": {},
   "outputs": [],
   "source": [
    "#Code Below taken from https://www.kaggle.com/janiobachmann/lending-club-risk-analysis-and-metrics/notebook\n",
    "#Determining the loans that are bad from loan_status column\n",
    "bad_loan = [\"Charged Off\", \"Default\", \n",
    "            \"Does not meet the credit policy. Status:Charged Off\", \n",
    "            \"In Grace Period\", \n",
    "            \"Late (16-30 days)\", \n",
    "            \"Late (31-120 days)\"]\n",
    "\n",
    "df['loan_condition'] = np.nan\n",
    "\n",
    "def loan_condition(status):\n",
    "    if status in bad_loan:\n",
    "        return 'Bad Loan'\n",
    "    else:\n",
    "        return 'Good Loan'\n",
    "    \n",
    "\n",
    "df['loan_condition'] = df['loan_status'].apply(loan_condition)"
   ]
  }
 ],
 "metadata": {
  "kernelspec": {
   "display_name": "Python 3",
   "language": "python",
   "name": "python3"
  },
  "language_info": {
   "codemirror_mode": {
    "name": "ipython",
    "version": 3
   },
   "file_extension": ".py",
   "mimetype": "text/x-python",
   "name": "python",
   "nbconvert_exporter": "python",
   "pygments_lexer": "ipython3",
   "version": "3.7.6"
  }
 },
 "nbformat": 4,
 "nbformat_minor": 4
}
