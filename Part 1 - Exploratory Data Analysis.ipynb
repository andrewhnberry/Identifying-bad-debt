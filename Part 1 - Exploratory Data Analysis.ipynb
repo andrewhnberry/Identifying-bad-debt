{
 "cells": [
  {
   "cell_type": "markdown",
   "metadata": {},
   "source": [
    "## Part 1 - Exploratory Data Analysis\n",
    "\n",
    "In this notebook we will be conducting an EDA of the Lending Club Dataset with data from 2007 - 2019. The dataset can be found [here](https://www.kaggle.com/wendykan/lending-club-loan-data) on Kaggle. \n",
    "\n",
    "#### Goals\n"
   ]
  },
  {
   "cell_type": "code",
   "execution_count": null,
   "metadata": {},
   "outputs": [],
   "source": [
    "#importing the holy trinity of data science plugins\n",
    "import pandas as pd\n",
    "pd.set_option('display.max_columns', None)\n",
    "pd.set_option('display.max_rows', None)\n",
    "import numpy as np\n",
    "import matplotlib.pyplot as plt \n",
    "\n",
    "#other visualzation packages\n",
    "import seaborn as sns"
   ]
  },
  {
   "cell_type": "code",
   "execution_count": null,
   "metadata": {},
   "outputs": [],
   "source": [
    "df = pd.read_csv('data/loan.csv')"
   ]
  },
  {
   "cell_type": "code",
   "execution_count": null,
   "metadata": {},
   "outputs": [],
   "source": [
    "df.head(30)"
   ]
  },
  {
   "cell_type": "code",
   "execution_count": null,
   "metadata": {},
   "outputs": [],
   "source": [
    "df.shape"
   ]
  },
  {
   "cell_type": "markdown",
   "metadata": {},
   "source": [
    "145 features & 2 million plus rows. Wow! Probably best we start by understanding what these features, so we can start by asking the right questions? "
   ]
  },
  {
   "cell_type": "markdown",
   "metadata": {},
   "source": [
    "\n",
    "\n",
    "#### Data Dictionary\n",
    "| BrowseNotesFile                      | Description                                                                                                                                                                                                        |\n",
    "|--------------------------------------|--------------------------------------------------------------------------------------------------------------------------------------------------------------------------------------------------------------------|\n",
    "| acceptD                              | The date which the borrower accepted  the offer                                                                                                                                                                    |\n",
    "| accNowDelinq                         | The number of accounts on which the borrower is now delinquent.                                                                                                                                                    |\n",
    "| accOpenPast24Mths                    | Number of trades opened in past 24 months.                                                                                                                                                                         |\n",
    "| addrState                            | The state provided by the borrower in the loan application                                                                                                                                                         |\n",
    "| all_util                             | Balance to credit limit on all trades                                                                                                                                                                              |\n",
    "| annual_inc_joint                     | The combined self-reported annual income provided by the co-borrowers during registration                                                                                                                          |\n",
    "| annualInc                            | The self-reported annual income provided by the borrower during registration.                                                                                                                                      |\n",
    "| application_type                     | Indicates whether the loan is an individual application or a joint application with two co-borrowers                                                                                                               |\n",
    "| avg_cur_bal                          | Average current balance of all accounts                                                                                                                                                                            |\n",
    "| bcOpenToBuy                          | Total open to buy on revolving bankcards.                                                                                                                                                                          |\n",
    "| bcUtil                               | Ratio of total current balance to high credit/credit limit for all bankcard accounts.                                                                                                                              |\n",
    "| chargeoff_within_12_mths             | Number of charge-offs within 12 months                                                                                                                                                                             |\n",
    "| collections_12_mths_ex_med           | Number of collections in 12 months excluding medical collections                                                                                                                                                   |\n",
    "| creditPullD                          | The date LC pulled credit for this loan                                                                                                                                                                            |\n",
    "| delinq2Yrs                           | The number of 30+ days past-due incidences of delinquency in the borrower's credit file for the past 2 years                                                                                                       |\n",
    "| delinqAmnt                           | The past-due amount owed for the accounts on which the borrower is now delinquent.                                                                                                                                 |\n",
    "| desc                                 | Loan description provided by the borrower                                                                                                                                                                          |\n",
    "| dti                                  | A ratio calculated using the borrower’s total monthly debt payments on the total debt obligations, excluding mortgage and the requested LC loan, divided by the borrower’s self-reported monthly income.           |\n",
    "| dti_joint                            | A ratio calculated using the co-borrowers' total monthly payments on the total debt obligations, excluding mortgages and the requested LC loan, divided by the co-borrowers' combined self-reported monthly income |\n",
    "| earliestCrLine                       | The date the borrower's earliest reported credit line was opened                                                                                                                                                   |\n",
    "| effective_int_rate                   | The effective interest rate is equal to the interest rate on a Note reduced by Lending Club's estimate of the impact of uncollected interest prior to charge off.                                                  |\n",
    "| emp_title                            | The job title supplied by the Borrower when applying for the loan.*                                                                                                                                                |\n",
    "| empLength                            | Employment length in years. Possible values are between 0 and 10 where 0 means less than one year and 10 means ten or more years.                                                                                  |\n",
    "| expD                                 | The date the listing will expire                                                                                                                                                                                   |\n",
    "| expDefaultRate                       | The expected default rate of the loan.                                                                                                                                                                             |\n",
    "| ficoRangeHigh                        | The upper boundary range the borrower’s FICO at loan origination belongs to.                                                                                                                                       |\n",
    "| ficoRangeLow                         | The lower boundary range the borrower’s FICO at loan origination belongs to.                                                                                                                                       |\n",
    "| fundedAmnt                           | The total amount committed to that loan at that point in time.                                                                                                                                                     |\n",
    "| grade                                | LC assigned loan grade                                                                                                                                                                                             |\n",
    "| homeOwnership                        | The home ownership status provided by the borrower during registration. Our values are: RENT, OWN, MORTGAGE, OTHER.                                                                                                |\n",
    "| id                                   | A unique LC assigned ID for the loan listing.                                                                                                                                                                      |\n",
    "| il_util                              | Ratio of total current balance to high credit/credit limit on all install acct                                                                                                                                     |\n",
    "| ils_exp_d                            | wholeloan platform expiration date                                                                                                                                                                                 |\n",
    "| initialListStatus                    | The initial listing status of the loan. Possible values are – W, F                                                                                                                                                 |\n",
    "| inq_fi                               | Number of personal finance inquiries                                                                                                                                                                               |\n",
    "| inq_last_12m                         | Number of credit inquiries in past 12 months                                                                                                                                                                       |\n",
    "| inqLast6Mths                         | The number of inquiries in past 6 months (excluding auto and mortgage inquiries)                                                                                                                                   |\n",
    "| installment                          | The monthly payment owed by the borrower if the loan originates.                                                                                                                                                   |\n",
    "| intRate                              | Interest Rate on the loan                                                                                                                                                                                          |\n",
    "| isIncV                               | Indicates if income was verified by LC, not verified, or if the income source was verified                                                                                                                         |\n",
    "| listD                                | The date which the borrower's application was listed on the platform.                                                                                                                                              |\n",
    "| loanAmnt                             | The listed amount of the loan applied for by the borrower. If at some point in time, the credit department reduces the loan amount, then it will be reflected in this value.                                       |\n",
    "| max_bal_bc                           | Maximum current balance owed on all revolving accounts                                                                                                                                                             |\n",
    "| memberId                             | A unique LC assigned Id for the borrower member.                                                                                                                                                                   |\n",
    "| mo_sin_old_rev_tl_op                 | Months since oldest revolving account opened                                                                                                                                                                       |\n",
    "| mo_sin_rcnt_rev_tl_op                | Months since most recent revolving account opened                                                                                                                                                                  |\n",
    "| mo_sin_rcnt_tl                       | Months since most recent account opened                                                                                                                                                                            |\n",
    "| mortAcc                              | Number of mortgage accounts.                                                                                                                                                                                       |\n",
    "| msa                                  | Metropolitan Statistical Area of the borrower.                                                                                                                                                                     |\n",
    "| mths_since_last_major_derog          | Months since most recent 90-day or worse rating                                                                                                                                                                    |\n",
    "| mths_since_oldest_il_open            | Months since oldest bank installment account opened                                                                                                                                                                |\n",
    "| mths_since_rcnt_il                   | Months since most recent installment accounts opened                                                                                                                                                               |\n",
    "| mthsSinceLastDelinq                  | The number of months since the borrower's last delinquency.                                                                                                                                                        |\n",
    "| mthsSinceLastRecord                  | The number of months since the last public record.                                                                                                                                                                 |\n",
    "| mthsSinceMostRecentInq               | Months since most recent inquiry.                                                                                                                                                                                  |\n",
    "| mthsSinceRecentBc                    | Months since most recent bankcard account opened.                                                                                                                                                                  |\n",
    "| mthsSinceRecentLoanDelinq            | Months since most recent personal finance delinquency.                                                                                                                                                             |\n",
    "| mthsSinceRecentRevolDelinq           | Months since most recent revolving delinquency.                                                                                                                                                                    |\n",
    "| num_accts_ever_120_pd                | Number of accounts ever 120 or more days past due                                                                                                                                                                  |\n",
    "| num_actv_bc_tl                       | Number of currently active bankcard accounts                                                                                                                                                                       |\n",
    "| num_actv_rev_tl                      | Number of currently active revolving trades                                                                                                                                                                        |\n",
    "| num_bc_sats                          | Number of satisfactory bankcard accounts                                                                                                                                                                           |\n",
    "| num_bc_tl                            | Number of bankcard accounts                                                                                                                                                                                        |\n",
    "| num_il_tl                            | Number of installment accounts                                                                                                                                                                                     |\n",
    "| num_op_rev_tl                        | Number of open revolving accounts                                                                                                                                                                                  |\n",
    "| num_rev_accts                        | Number of revolving accounts                                                                                                                                                                                       |\n",
    "| num_rev_tl_bal_gt_0                  | Number of revolving trades with balance >0                                                                                                                                                                         |\n",
    "| num_sats                             | Number of satisfactory accounts                                                                                                                                                                                    |\n",
    "| num_tl_120dpd_2m                     | Number of accounts currently 120 days past due (updated in past 2 months)                                                                                                                                          |\n",
    "| num_tl_30dpd                         | Number of accounts currently 30 days past due (updated in past 2 months)                                                                                                                                           |\n",
    "| num_tl_90g_dpd_24m                   | Number of accounts 90 or more days past due in last 24 months                                                                                                                                                      |\n",
    "| num_tl_op_past_12m                   | Number of accounts opened in past 12 months                                                                                                                                                                        |\n",
    "| open_acc_6m                          | Number of open trades in last 6 months                                                                                                                                                                             |\n",
    "| open_il_12m                          | Number of installment accounts opened in past 12 months                                                                                                                                                            |\n",
    "| open_il_24m                          | Number of installment accounts opened in past 24 months                                                                                                                                                            |\n",
    "| open_act_il                          | Number of currently active installment trades                                                                                                                                                                      |\n",
    "| open_rv_12m                          | Number of revolving trades opened in past 12 months                                                                                                                                                                |\n",
    "| open_rv_24m                          | Number of revolving trades opened in past 24 months                                                                                                                                                                |\n",
    "| openAcc                              | The number of open credit lines in the borrower's credit file.                                                                                                                                                     |\n",
    "| pct_tl_nvr_dlq                       | Percent of trades never delinquent                                                                                                                                                                                 |\n",
    "| percentBcGt75                        | Percentage of all bankcard accounts > 75% of limit.                                                                                                                                                                |\n",
    "| pub_rec_bankruptcies                 | Number of public record bankruptcies                                                                                                                                                                               |\n",
    "| pubRec                               | Number of derogatory public records                                                                                                                                                                                |\n",
    "| purpose                              | A category provided by the borrower for the loan request.                                                                                                                                                          |\n",
    "| reviewStatus                         | The status of the loan during the listing period. Values: APPROVED, NOT_APPROVED.                                                                                                                                  |\n",
    "| reviewStatusD                        | The date the loan application was reviewed by LC                                                                                                                                                                   |\n",
    "| revolBal                             | Total credit revolving balance                                                                                                                                                                                     |\n",
    "| revolUtil                            | Revolving line utilization rate, or the amount of credit the borrower is using relative to all available revolving credit.                                                                                         |\n",
    "| serviceFeeRate                       | Service fee rate paid by the investor for this loan.                                                                                                                                                               |\n",
    "| subGrade                             | LC assigned loan subgrade                                                                                                                                                                                          |\n",
    "| tax_liens                            | Number of tax liens                                                                                                                                                                                                |\n",
    "| term                                 | The number of payments on the loan. Values are in months and can be either 36 or 60.                                                                                                                               |\n",
    "| title                                | The loan title provided by the borrower                                                                                                                                                                            |\n",
    "| tot_coll_amt                         | Total collection amounts ever owed                                                                                                                                                                                 |\n",
    "| tot_cur_bal                          | Total current balance of all accounts                                                                                                                                                                              |\n",
    "| tot_hi_cred_lim                      | Total high credit/credit limit                                                                                                                                                                                     |\n",
    "| total_bal_il                         | Total current balance of all installment accounts                                                                                                                                                                  |\n",
    "| total_cu_tl                          | Number of finance trades                                                                                                                                                                                           |\n",
    "| total_il_high_credit_limit           | Total installment high credit/credit limit                                                                                                                                                                         |\n",
    "| total_rev_hi_lim                     | Total revolving high credit/credit limit                                                                                                                                                                           |\n",
    "| totalAcc                             | The total number of credit lines currently in the borrower's credit file                                                                                                                                           |\n",
    "| totalBalExMort                       | Total credit balance excluding mortgage                                                                                                                                                                            |\n",
    "| totalBcLimit                         | Total bankcard high credit/credit limit                                                                                                                                                                            |\n",
    "| url                                  | URL for the LC page with listing data.                                                                                                                                                                             |\n",
    "| verified_status_joint                | Indicates if the co-borrowers' joint income was verified by LC, not verified, or if the income source was verified                                                                                                 |\n",
    "| zip_code                             | The first 3 numbers of the zip code provided by the borrower in the loan application.                                                                                                                              |\n",
    "| revol_bal_joint                      |  Sum of revolving credit balance of the co-borrowers, net of duplicate balances                                                                                                                                    |\n",
    "| sec_app_fico_range_low               |  FICO range (high) for the secondary applicant                                                                                                                                                                     |\n",
    "| sec_app_fico_range_high              |  FICO range (low) for the secondary applicant                                                                                                                                                                      |\n",
    "| sec_app_earliest_cr_line             |  Earliest credit line at time of application for the secondary applicant                                                                                                                                           |\n",
    "| sec_app_inq_last_6mths               |  Credit inquiries in the last 6 months at time of application for the secondary applicant                                                                                                                          |\n",
    "| sec_app_mort_acc                     |  Number of mortgage accounts at time of application for the secondary applicant                                                                                                                                    |\n",
    "| sec_app_open_acc                     |  Number of open trades at time of application for the secondary applicant                                                                                                                                          |\n",
    "| sec_app_revol_util                   |  Ratio of total current balance to high credit/credit limit for all revolving accounts                                                                                                                             |\n",
    "| sec_app_open_act_il                  |  Number of currently active installment trades at time of application for the secondary applicant                                                                                                                  |\n",
    "| sec_app_num_rev_accts                |  Number of revolving accounts at time of application for the secondary applicant                                                                                                                                   |\n",
    "| sec_app_chargeoff_within_12_mths     |  Number of charge-offs within last 12 months at time of application for the secondary applicant                                                                                                                    |\n",
    "| sec_app_collections_12_mths_ex_med   |  Number of collections within last 12 months excluding medical collections at time of application for the secondary applicant                                                                                      |\n",
    "| sec_app_mths_since_last_major_derog  |  Months since most recent 90-day or worse rating at time of application for the secondary applicant                                                                                                                |\n",
    "| disbursement_method                  | The method by which the borrower receives their loan. Possible values are: CASH, DIRECT_PAY                                                                                                                        |"
   ]
  },
  {
   "cell_type": "markdown",
   "metadata": {},
   "source": [
    "That's a lot of features for me to explore in this dataset. I don't even understand some of them, I'm not a finance professional so I'm going to just pick a few questions and features that I would like to explore. \n",
    "\n",
    "#### Most Interesting Features: (In My Opinion)\n",
    "**Potential Target Features**\n",
    "- expDefaultRate (regression\n",
    "- purpose (classification)\n",
    "- grade (classification)\n",
    "\n",
    "#### Interesting Questions to ask? \n",
    "Since we have time series data, it would be interesting to look at various features changes over the years. There is a lot we can ask and look around with this dataset. How exciting? \n",
    "- What is the default rate change over the years? \n",
    "- What is considered bad debt vs good debt? \n",
    "- What are the leading lending club loans?\n",
    "\n",
    "#### Interesting Machine Learning Problems? \n",
    "- Can I predict the default rate?\n",
    "- Can I accuractley classify the loan grade (or purpose) based on the available metrics? \n"
   ]
  },
  {
   "cell_type": "markdown",
   "metadata": {},
   "source": [
    "Before we continue, let's quickly check each feature to see which ones has the highest amount of missing data and delete them. It will be easier for us to analyze the data later. "
   ]
  },
  {
   "cell_type": "code",
   "execution_count": null,
   "metadata": {},
   "outputs": [],
   "source": [
    "#Check percentage of data missing for each feature/column\n",
    "round(df.isna().sum()/len(df),3)"
   ]
  },
  {
   "cell_type": "markdown",
   "metadata": {},
   "source": [
    "I will drop columns with 30% or more missing data. "
   ]
  },
  {
   "cell_type": "code",
   "execution_count": null,
   "metadata": {},
   "outputs": [],
   "source": [
    "df = df.loc[:, df.isnull().mean() < .3]"
   ]
  },
  {
   "cell_type": "code",
   "execution_count": null,
   "metadata": {},
   "outputs": [],
   "source": [
    "round(df.isna().sum()/len(df),3)"
   ]
  },
  {
   "cell_type": "code",
   "execution_count": null,
   "metadata": {},
   "outputs": [],
   "source": [
    "df.shape"
   ]
  },
  {
   "cell_type": "code",
   "execution_count": null,
   "metadata": {},
   "outputs": [],
   "source": []
  }
 ],
 "metadata": {
  "kernelspec": {
   "display_name": "Python 3",
   "language": "python",
   "name": "python3"
  },
  "language_info": {
   "codemirror_mode": {
    "name": "ipython",
    "version": 3
   },
   "file_extension": ".py",
   "mimetype": "text/x-python",
   "name": "python",
   "nbconvert_exporter": "python",
   "pygments_lexer": "ipython3",
   "version": "3.7.6"
  }
 },
 "nbformat": 4,
 "nbformat_minor": 4
}
