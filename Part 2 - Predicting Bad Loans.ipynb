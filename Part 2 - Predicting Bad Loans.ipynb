{
 "cells": [
  {
   "cell_type": "markdown",
   "metadata": {},
   "source": [
    "## Part 2 - Predicting Bad Loans vs Good Loans\n",
    "\n",
    "There is plenty of different machine learning problems we could tackle with this [lending club dataset](https://www.kaggle.com/wendykan/lending-club-loan-data).\n",
    "\n",
    "I do plan on doing more than just one machine learning problem. However, for the first one my goal is to figure out how to predict **bad debt vs good debt**. This is a **classic classification problem**, and I will use various classification models to tackle this problem.\n",
    "\n",
    "**Target Variable:** loan_status"
   ]
  },
  {
   "cell_type": "code",
   "execution_count": 1,
   "metadata": {},
   "outputs": [],
   "source": [
    "#importing the holy trinity of data science plugins\n",
    "import pandas as pd\n",
    "pd.set_option('display.max_columns', None)\n",
    "pd.set_option('display.max_rows', None)\n",
    "import numpy as np\n",
    "import matplotlib.pyplot as plt \n",
    "\n",
    "#Importing\n",
    "\n",
    "import warnings\n",
    "warnings.filterwarnings(\"ignore\")\n",
    "\n",
    "#Sklearn Plugins\n",
    "from sklearn.linear_model import LogisticRegression\n",
    "from sklearn.metrics import confusion_matrix\n",
    "from sklearn.metrics import accuracy_score, f1_score, precision_score, recall_score, classification_report, confusion_matrix\n",
    "from sklearn.model_selection import train_test_split, cross_val_score"
   ]
  },
  {
   "cell_type": "markdown",
   "metadata": {},
   "source": [
    "### Step 1: Data Cleaning\n",
    "\n",
    "I will do some light data cleaning, at some point I will just make a python script once I start having more notebooks with different problems to tackle. For now It will be located in this notebook. "
   ]
  },
  {
   "cell_type": "code",
   "execution_count": 2,
   "metadata": {},
   "outputs": [],
   "source": [
    "df = pd.read_csv('/Users/andrewberry/Downloads/lending-club-loan-data/loan.csv', low_memory=False)"
   ]
  },
  {
   "cell_type": "code",
   "execution_count": 3,
   "metadata": {},
   "outputs": [],
   "source": [
    "# Removing columns that represent information that is not necessary or \n",
    "# information available to lender prior to lending the loan\n",
    "df = df.drop(['total_pymnt_inv','total_pymnt',\n",
    "              'debt_settlement_flag','out_prncp',\n",
    "              'last_pymnt_d','last_pymnt_amnt',\n",
    "              'out_prncp_inv','total_rec_int',\n",
    "              'total_rec_late_fee','recoveries',\n",
    "              'collection_recovery_fee','total_rec_prncp',\n",
    "              'total_rev_hi_lim','total_rec_int']\n",
    "             ,axis = 1)"
   ]
  },
  {
   "cell_type": "code",
   "execution_count": 4,
   "metadata": {},
   "outputs": [],
   "source": [
    "#Dropping features with 30% or more missing data\n",
    "df.dropna(thresh = 0.7*(len(df)), axis = 1, inplace = True)"
   ]
  },
  {
   "cell_type": "code",
   "execution_count": 5,
   "metadata": {},
   "outputs": [],
   "source": [
    "#New Column representing year\n",
    "df['year'] = pd.to_datetime(df.issue_d).dt.year"
   ]
  },
  {
   "cell_type": "markdown",
   "metadata": {},
   "source": [
    "For the step above of creating the year column. I am not sure if creating it adds much value if I am planning one hot encode the *issue_d* variable. "
   ]
  },
  {
   "cell_type": "code",
   "execution_count": 6,
   "metadata": {},
   "outputs": [],
   "source": [
    "#Modified Code Below taken from https://www.kaggle.com/janiobachmann/lending-club-risk-analysis-and-metrics/notebook\n",
    "#Determining the loans that are bad from loan_status column\n",
    "#I want to convert the loan status to binary \n",
    "\n",
    "bad_loan = [\"Charged Off\", \"Default\", \n",
    "            \"Does not meet the credit policy. Status:Charged Off\", \n",
    "            \"In Grace Period\", \n",
    "            \"Late (16-30 days)\", \n",
    "            \"Late (31-120 days)\"]\n",
    "\n",
    "def loan_condition(status):\n",
    "    if status in bad_loan:\n",
    "        return 0 #bad loan\n",
    "    else:\n",
    "        return 1 #good loan\n",
    "    \n",
    "df['loan_status'] = df['loan_status'].apply(loan_condition)"
   ]
  },
  {
   "cell_type": "markdown",
   "metadata": {},
   "source": [
    "After doing this step, there is still a lot of rows with missing values in various places. I have around 2 million rows, I tried the following code: \n",
    "\n",
    "``` python\n",
    "df.dropna(axis =0, how = 'any')\n",
    "```\n",
    "\n",
    "However, it reduces the amount of rows to 1,650,000~ roughly. \n",
    "\n",
    "I will however, attempt to fill missing data with the mean to preserve much of the dataset. "
   ]
  },
  {
   "cell_type": "code",
   "execution_count": 7,
   "metadata": {},
   "outputs": [],
   "source": [
    "#df = df.fillna(df.mean(), inplace=True)"
   ]
  },
  {
   "cell_type": "markdown",
   "metadata": {},
   "source": [
    "The code above took too long for my machine to process, so I will just do my original method. Dang it! :( "
   ]
  },
  {
   "cell_type": "code",
   "execution_count": 8,
   "metadata": {},
   "outputs": [],
   "source": [
    "df = df.dropna(axis =0, how = 'any')\n",
    "#save that, so I don't have to process again. \n",
    "df.to_csv('data/loan_no_nans.csv')"
   ]
  },
  {
   "cell_type": "code",
   "execution_count": 9,
   "metadata": {},
   "outputs": [
    {
     "data": {
      "text/plain": [
       "(1654008, 75)"
      ]
     },
     "execution_count": 9,
     "metadata": {},
     "output_type": "execute_result"
    }
   ],
   "source": [
    "df.shape"
   ]
  },
  {
   "cell_type": "markdown",
   "metadata": {},
   "source": [
    "## Baseline Model - Logistic Regression (No Scaling, No Feature Selection, etc)\n",
    "\n",
    "I want to fit a quick baseline model to this data using logistic regression with optimization of the c perameter. \n",
    "\n",
    "I do plan on trying these preprocessing methods and models:\n",
    "- Scaling (Standard Scaling, Min Max Scaler)\n",
    "- PCA\n",
    "- OverSampling Target Variable\n",
    "- Decision Trees\n",
    "- Random Forest\n",
    "- Neurel Networks"
   ]
  },
  {
   "cell_type": "code",
   "execution_count": 7,
   "metadata": {},
   "outputs": [],
   "source": [
    "df_clean = pd.read_csv('data/loan_no_nans.csv',index_col=0,\n",
    "                      low_memory = False)\n"
   ]
  },
  {
   "cell_type": "code",
   "execution_count": 8,
   "metadata": {},
   "outputs": [
    {
     "data": {
      "text/plain": [
       "1    287269\n",
       "0     43533\n",
       "Name: loan_status, dtype: int64"
      ]
     },
     "execution_count": 8,
     "metadata": {},
     "output_type": "execute_result"
    }
   ],
   "source": [
    "#Will use a 20% subset of the dataset, in order to reduce computational time\n",
    "df_clean = df_clean.sample(frac = 0.2, \n",
    "                          random_state = 42)\n",
    "#target variable\n",
    "df_clean['loan_status'].value_counts()"
   ]
  },
  {
   "cell_type": "code",
   "execution_count": 9,
   "metadata": {},
   "outputs": [
    {
     "data": {
      "text/html": [
       "<div>\n",
       "<style scoped>\n",
       "    .dataframe tbody tr th:only-of-type {\n",
       "        vertical-align: middle;\n",
       "    }\n",
       "\n",
       "    .dataframe tbody tr th {\n",
       "        vertical-align: top;\n",
       "    }\n",
       "\n",
       "    .dataframe thead th {\n",
       "        text-align: right;\n",
       "    }\n",
       "</style>\n",
       "<table border=\"1\" class=\"dataframe\">\n",
       "  <thead>\n",
       "    <tr style=\"text-align: right;\">\n",
       "      <th></th>\n",
       "      <th>loan_amnt</th>\n",
       "      <th>funded_amnt</th>\n",
       "      <th>funded_amnt_inv</th>\n",
       "      <th>term</th>\n",
       "      <th>int_rate</th>\n",
       "      <th>installment</th>\n",
       "      <th>grade</th>\n",
       "      <th>sub_grade</th>\n",
       "      <th>emp_title</th>\n",
       "      <th>emp_length</th>\n",
       "      <th>home_ownership</th>\n",
       "      <th>annual_inc</th>\n",
       "      <th>verification_status</th>\n",
       "      <th>issue_d</th>\n",
       "      <th>loan_status</th>\n",
       "      <th>pymnt_plan</th>\n",
       "      <th>purpose</th>\n",
       "      <th>title</th>\n",
       "      <th>zip_code</th>\n",
       "      <th>addr_state</th>\n",
       "      <th>dti</th>\n",
       "      <th>delinq_2yrs</th>\n",
       "      <th>earliest_cr_line</th>\n",
       "      <th>inq_last_6mths</th>\n",
       "      <th>open_acc</th>\n",
       "      <th>pub_rec</th>\n",
       "      <th>revol_bal</th>\n",
       "      <th>revol_util</th>\n",
       "      <th>total_acc</th>\n",
       "      <th>initial_list_status</th>\n",
       "      <th>last_credit_pull_d</th>\n",
       "      <th>collections_12_mths_ex_med</th>\n",
       "      <th>policy_code</th>\n",
       "      <th>application_type</th>\n",
       "      <th>acc_now_delinq</th>\n",
       "      <th>tot_coll_amt</th>\n",
       "      <th>tot_cur_bal</th>\n",
       "      <th>acc_open_past_24mths</th>\n",
       "      <th>avg_cur_bal</th>\n",
       "      <th>bc_open_to_buy</th>\n",
       "      <th>bc_util</th>\n",
       "      <th>chargeoff_within_12_mths</th>\n",
       "      <th>delinq_amnt</th>\n",
       "      <th>mo_sin_old_il_acct</th>\n",
       "      <th>mo_sin_old_rev_tl_op</th>\n",
       "      <th>mo_sin_rcnt_rev_tl_op</th>\n",
       "      <th>mo_sin_rcnt_tl</th>\n",
       "      <th>mort_acc</th>\n",
       "      <th>mths_since_recent_bc</th>\n",
       "      <th>mths_since_recent_inq</th>\n",
       "      <th>num_accts_ever_120_pd</th>\n",
       "      <th>num_actv_bc_tl</th>\n",
       "      <th>num_actv_rev_tl</th>\n",
       "      <th>num_bc_sats</th>\n",
       "      <th>num_bc_tl</th>\n",
       "      <th>num_il_tl</th>\n",
       "      <th>num_op_rev_tl</th>\n",
       "      <th>num_rev_accts</th>\n",
       "      <th>num_rev_tl_bal_gt_0</th>\n",
       "      <th>num_sats</th>\n",
       "      <th>num_tl_120dpd_2m</th>\n",
       "      <th>num_tl_30dpd</th>\n",
       "      <th>num_tl_90g_dpd_24m</th>\n",
       "      <th>num_tl_op_past_12m</th>\n",
       "      <th>pct_tl_nvr_dlq</th>\n",
       "      <th>percent_bc_gt_75</th>\n",
       "      <th>pub_rec_bankruptcies</th>\n",
       "      <th>tax_liens</th>\n",
       "      <th>tot_hi_cred_lim</th>\n",
       "      <th>total_bal_ex_mort</th>\n",
       "      <th>total_bc_limit</th>\n",
       "      <th>total_il_high_credit_limit</th>\n",
       "      <th>hardship_flag</th>\n",
       "      <th>disbursement_method</th>\n",
       "      <th>year</th>\n",
       "    </tr>\n",
       "  </thead>\n",
       "  <tbody>\n",
       "    <tr>\n",
       "      <th>1204665</th>\n",
       "      <td>12000</td>\n",
       "      <td>12000</td>\n",
       "      <td>12000.0</td>\n",
       "      <td>36 months</td>\n",
       "      <td>15.61</td>\n",
       "      <td>419.58</td>\n",
       "      <td>D</td>\n",
       "      <td>D1</td>\n",
       "      <td>Analyst</td>\n",
       "      <td>1 year</td>\n",
       "      <td>MORTGAGE</td>\n",
       "      <td>56000.0</td>\n",
       "      <td>Source Verified</td>\n",
       "      <td>May-2015</td>\n",
       "      <td>1</td>\n",
       "      <td>n</td>\n",
       "      <td>debt_consolidation</td>\n",
       "      <td>Debt consolidation</td>\n",
       "      <td>191xx</td>\n",
       "      <td>PA</td>\n",
       "      <td>22.03</td>\n",
       "      <td>0.0</td>\n",
       "      <td>Feb-2005</td>\n",
       "      <td>1.0</td>\n",
       "      <td>15.0</td>\n",
       "      <td>0.0</td>\n",
       "      <td>6544</td>\n",
       "      <td>35.6</td>\n",
       "      <td>24.0</td>\n",
       "      <td>f</td>\n",
       "      <td>Feb-2019</td>\n",
       "      <td>0.0</td>\n",
       "      <td>1</td>\n",
       "      <td>Individual</td>\n",
       "      <td>0.0</td>\n",
       "      <td>0.0</td>\n",
       "      <td>144804.0</td>\n",
       "      <td>9.0</td>\n",
       "      <td>10343.0</td>\n",
       "      <td>4768.0</td>\n",
       "      <td>51.3</td>\n",
       "      <td>0.0</td>\n",
       "      <td>0.0</td>\n",
       "      <td>37.0</td>\n",
       "      <td>82.0</td>\n",
       "      <td>4.0</td>\n",
       "      <td>4.0</td>\n",
       "      <td>4.0</td>\n",
       "      <td>4.0</td>\n",
       "      <td>4.0</td>\n",
       "      <td>0.0</td>\n",
       "      <td>2.0</td>\n",
       "      <td>7.0</td>\n",
       "      <td>3.0</td>\n",
       "      <td>3.0</td>\n",
       "      <td>7.0</td>\n",
       "      <td>10.0</td>\n",
       "      <td>13.0</td>\n",
       "      <td>7.0</td>\n",
       "      <td>15.0</td>\n",
       "      <td>0.0</td>\n",
       "      <td>0.0</td>\n",
       "      <td>0.0</td>\n",
       "      <td>4.0</td>\n",
       "      <td>100.0</td>\n",
       "      <td>33.3</td>\n",
       "      <td>0.0</td>\n",
       "      <td>0.0</td>\n",
       "      <td>180428.0</td>\n",
       "      <td>36951.0</td>\n",
       "      <td>9800.0</td>\n",
       "      <td>35428.0</td>\n",
       "      <td>N</td>\n",
       "      <td>Cash</td>\n",
       "      <td>2015</td>\n",
       "    </tr>\n",
       "    <tr>\n",
       "      <th>2233020</th>\n",
       "      <td>14000</td>\n",
       "      <td>14000</td>\n",
       "      <td>14000.0</td>\n",
       "      <td>36 months</td>\n",
       "      <td>13.59</td>\n",
       "      <td>475.71</td>\n",
       "      <td>C</td>\n",
       "      <td>C2</td>\n",
       "      <td>Program Manager</td>\n",
       "      <td>5 years</td>\n",
       "      <td>RENT</td>\n",
       "      <td>102000.0</td>\n",
       "      <td>Source Verified</td>\n",
       "      <td>Oct-2017</td>\n",
       "      <td>1</td>\n",
       "      <td>n</td>\n",
       "      <td>debt_consolidation</td>\n",
       "      <td>Debt consolidation</td>\n",
       "      <td>207xx</td>\n",
       "      <td>MD</td>\n",
       "      <td>14.69</td>\n",
       "      <td>0.0</td>\n",
       "      <td>Jun-2012</td>\n",
       "      <td>1.0</td>\n",
       "      <td>6.0</td>\n",
       "      <td>1.0</td>\n",
       "      <td>6534</td>\n",
       "      <td>51.0</td>\n",
       "      <td>9.0</td>\n",
       "      <td>w</td>\n",
       "      <td>Feb-2019</td>\n",
       "      <td>0.0</td>\n",
       "      <td>1</td>\n",
       "      <td>Individual</td>\n",
       "      <td>0.0</td>\n",
       "      <td>500.0</td>\n",
       "      <td>48974.0</td>\n",
       "      <td>2.0</td>\n",
       "      <td>8162.0</td>\n",
       "      <td>6266.0</td>\n",
       "      <td>51.0</td>\n",
       "      <td>0.0</td>\n",
       "      <td>0.0</td>\n",
       "      <td>64.0</td>\n",
       "      <td>34.0</td>\n",
       "      <td>21.0</td>\n",
       "      <td>5.0</td>\n",
       "      <td>0.0</td>\n",
       "      <td>21.0</td>\n",
       "      <td>5.0</td>\n",
       "      <td>0.0</td>\n",
       "      <td>4.0</td>\n",
       "      <td>4.0</td>\n",
       "      <td>4.0</td>\n",
       "      <td>4.0</td>\n",
       "      <td>5.0</td>\n",
       "      <td>4.0</td>\n",
       "      <td>4.0</td>\n",
       "      <td>4.0</td>\n",
       "      <td>6.0</td>\n",
       "      <td>0.0</td>\n",
       "      <td>0.0</td>\n",
       "      <td>0.0</td>\n",
       "      <td>1.0</td>\n",
       "      <td>100.0</td>\n",
       "      <td>0.0</td>\n",
       "      <td>1.0</td>\n",
       "      <td>0.0</td>\n",
       "      <td>66143.0</td>\n",
       "      <td>48974.0</td>\n",
       "      <td>12800.0</td>\n",
       "      <td>53343.0</td>\n",
       "      <td>N</td>\n",
       "      <td>Cash</td>\n",
       "      <td>2017</td>\n",
       "    </tr>\n",
       "    <tr>\n",
       "      <th>1286927</th>\n",
       "      <td>15000</td>\n",
       "      <td>15000</td>\n",
       "      <td>15000.0</td>\n",
       "      <td>36 months</td>\n",
       "      <td>6.92</td>\n",
       "      <td>462.61</td>\n",
       "      <td>A</td>\n",
       "      <td>A4</td>\n",
       "      <td>AFJROTC Teacher</td>\n",
       "      <td>10+ years</td>\n",
       "      <td>MORTGAGE</td>\n",
       "      <td>50843.0</td>\n",
       "      <td>Source Verified</td>\n",
       "      <td>Mar-2015</td>\n",
       "      <td>1</td>\n",
       "      <td>n</td>\n",
       "      <td>debt_consolidation</td>\n",
       "      <td>Debt consolidation</td>\n",
       "      <td>272xx</td>\n",
       "      <td>NC</td>\n",
       "      <td>13.39</td>\n",
       "      <td>0.0</td>\n",
       "      <td>Jan-1993</td>\n",
       "      <td>0.0</td>\n",
       "      <td>5.0</td>\n",
       "      <td>0.0</td>\n",
       "      <td>7317</td>\n",
       "      <td>41.8</td>\n",
       "      <td>13.0</td>\n",
       "      <td>w</td>\n",
       "      <td>Nov-2018</td>\n",
       "      <td>0.0</td>\n",
       "      <td>1</td>\n",
       "      <td>Individual</td>\n",
       "      <td>0.0</td>\n",
       "      <td>0.0</td>\n",
       "      <td>179716.0</td>\n",
       "      <td>3.0</td>\n",
       "      <td>35943.0</td>\n",
       "      <td>10183.0</td>\n",
       "      <td>41.8</td>\n",
       "      <td>0.0</td>\n",
       "      <td>0.0</td>\n",
       "      <td>95.0</td>\n",
       "      <td>265.0</td>\n",
       "      <td>9.0</td>\n",
       "      <td>9.0</td>\n",
       "      <td>2.0</td>\n",
       "      <td>9.0</td>\n",
       "      <td>10.0</td>\n",
       "      <td>1.0</td>\n",
       "      <td>2.0</td>\n",
       "      <td>2.0</td>\n",
       "      <td>3.0</td>\n",
       "      <td>5.0</td>\n",
       "      <td>3.0</td>\n",
       "      <td>3.0</td>\n",
       "      <td>8.0</td>\n",
       "      <td>2.0</td>\n",
       "      <td>5.0</td>\n",
       "      <td>0.0</td>\n",
       "      <td>0.0</td>\n",
       "      <td>0.0</td>\n",
       "      <td>2.0</td>\n",
       "      <td>91.7</td>\n",
       "      <td>66.7</td>\n",
       "      <td>0.0</td>\n",
       "      <td>0.0</td>\n",
       "      <td>200799.0</td>\n",
       "      <td>10915.0</td>\n",
       "      <td>17500.0</td>\n",
       "      <td>12299.0</td>\n",
       "      <td>N</td>\n",
       "      <td>Cash</td>\n",
       "      <td>2015</td>\n",
       "    </tr>\n",
       "    <tr>\n",
       "      <th>1809503</th>\n",
       "      <td>9500</td>\n",
       "      <td>9500</td>\n",
       "      <td>9500.0</td>\n",
       "      <td>36 months</td>\n",
       "      <td>18.75</td>\n",
       "      <td>347.04</td>\n",
       "      <td>D</td>\n",
       "      <td>D3</td>\n",
       "      <td>Mitchell1 / Snapon</td>\n",
       "      <td>5 years</td>\n",
       "      <td>RENT</td>\n",
       "      <td>35000.0</td>\n",
       "      <td>Not Verified</td>\n",
       "      <td>Jan-2013</td>\n",
       "      <td>1</td>\n",
       "      <td>n</td>\n",
       "      <td>credit_card</td>\n",
       "      <td>Wedding plans</td>\n",
       "      <td>919xx</td>\n",
       "      <td>CA</td>\n",
       "      <td>18.56</td>\n",
       "      <td>0.0</td>\n",
       "      <td>Jan-2008</td>\n",
       "      <td>3.0</td>\n",
       "      <td>11.0</td>\n",
       "      <td>0.0</td>\n",
       "      <td>12434</td>\n",
       "      <td>56.5</td>\n",
       "      <td>15.0</td>\n",
       "      <td>f</td>\n",
       "      <td>Feb-2019</td>\n",
       "      <td>0.0</td>\n",
       "      <td>1</td>\n",
       "      <td>Individual</td>\n",
       "      <td>0.0</td>\n",
       "      <td>0.0</td>\n",
       "      <td>21798.0</td>\n",
       "      <td>10.0</td>\n",
       "      <td>1982.0</td>\n",
       "      <td>4358.0</td>\n",
       "      <td>72.2</td>\n",
       "      <td>0.0</td>\n",
       "      <td>0.0</td>\n",
       "      <td>19.0</td>\n",
       "      <td>60.0</td>\n",
       "      <td>1.0</td>\n",
       "      <td>1.0</td>\n",
       "      <td>0.0</td>\n",
       "      <td>1.0</td>\n",
       "      <td>4.0</td>\n",
       "      <td>0.0</td>\n",
       "      <td>6.0</td>\n",
       "      <td>9.0</td>\n",
       "      <td>7.0</td>\n",
       "      <td>7.0</td>\n",
       "      <td>1.0</td>\n",
       "      <td>10.0</td>\n",
       "      <td>14.0</td>\n",
       "      <td>9.0</td>\n",
       "      <td>11.0</td>\n",
       "      <td>0.0</td>\n",
       "      <td>0.0</td>\n",
       "      <td>0.0</td>\n",
       "      <td>6.0</td>\n",
       "      <td>100.0</td>\n",
       "      <td>57.1</td>\n",
       "      <td>0.0</td>\n",
       "      <td>0.0</td>\n",
       "      <td>34459.0</td>\n",
       "      <td>21798.0</td>\n",
       "      <td>15700.0</td>\n",
       "      <td>12459.0</td>\n",
       "      <td>N</td>\n",
       "      <td>Cash</td>\n",
       "      <td>2013</td>\n",
       "    </tr>\n",
       "    <tr>\n",
       "      <th>812250</th>\n",
       "      <td>20000</td>\n",
       "      <td>20000</td>\n",
       "      <td>20000.0</td>\n",
       "      <td>60 months</td>\n",
       "      <td>9.80</td>\n",
       "      <td>422.98</td>\n",
       "      <td>B</td>\n",
       "      <td>B3</td>\n",
       "      <td>Elementary Principal</td>\n",
       "      <td>10+ years</td>\n",
       "      <td>MORTGAGE</td>\n",
       "      <td>101000.0</td>\n",
       "      <td>Not Verified</td>\n",
       "      <td>Jan-2016</td>\n",
       "      <td>1</td>\n",
       "      <td>n</td>\n",
       "      <td>home_improvement</td>\n",
       "      <td>Home improvement</td>\n",
       "      <td>431xx</td>\n",
       "      <td>OH</td>\n",
       "      <td>7.59</td>\n",
       "      <td>0.0</td>\n",
       "      <td>Nov-1986</td>\n",
       "      <td>0.0</td>\n",
       "      <td>9.0</td>\n",
       "      <td>0.0</td>\n",
       "      <td>39519</td>\n",
       "      <td>76.3</td>\n",
       "      <td>22.0</td>\n",
       "      <td>w</td>\n",
       "      <td>Feb-2019</td>\n",
       "      <td>0.0</td>\n",
       "      <td>1</td>\n",
       "      <td>Individual</td>\n",
       "      <td>0.0</td>\n",
       "      <td>0.0</td>\n",
       "      <td>240235.0</td>\n",
       "      <td>3.0</td>\n",
       "      <td>30029.0</td>\n",
       "      <td>6457.0</td>\n",
       "      <td>84.6</td>\n",
       "      <td>0.0</td>\n",
       "      <td>0.0</td>\n",
       "      <td>129.0</td>\n",
       "      <td>350.0</td>\n",
       "      <td>8.0</td>\n",
       "      <td>8.0</td>\n",
       "      <td>3.0</td>\n",
       "      <td>8.0</td>\n",
       "      <td>8.0</td>\n",
       "      <td>0.0</td>\n",
       "      <td>3.0</td>\n",
       "      <td>6.0</td>\n",
       "      <td>4.0</td>\n",
       "      <td>5.0</td>\n",
       "      <td>3.0</td>\n",
       "      <td>7.0</td>\n",
       "      <td>16.0</td>\n",
       "      <td>6.0</td>\n",
       "      <td>9.0</td>\n",
       "      <td>0.0</td>\n",
       "      <td>0.0</td>\n",
       "      <td>0.0</td>\n",
       "      <td>3.0</td>\n",
       "      <td>100.0</td>\n",
       "      <td>100.0</td>\n",
       "      <td>0.0</td>\n",
       "      <td>0.0</td>\n",
       "      <td>260411.0</td>\n",
       "      <td>39519.0</td>\n",
       "      <td>42000.0</td>\n",
       "      <td>0.0</td>\n",
       "      <td>N</td>\n",
       "      <td>Cash</td>\n",
       "      <td>2016</td>\n",
       "    </tr>\n",
       "  </tbody>\n",
       "</table>\n",
       "</div>"
      ],
      "text/plain": [
       "         loan_amnt  funded_amnt  funded_amnt_inv        term  int_rate  \\\n",
       "1204665      12000        12000          12000.0   36 months     15.61   \n",
       "2233020      14000        14000          14000.0   36 months     13.59   \n",
       "1286927      15000        15000          15000.0   36 months      6.92   \n",
       "1809503       9500         9500           9500.0   36 months     18.75   \n",
       "812250       20000        20000          20000.0   60 months      9.80   \n",
       "\n",
       "         installment grade sub_grade             emp_title emp_length  \\\n",
       "1204665       419.58     D        D1               Analyst     1 year   \n",
       "2233020       475.71     C        C2       Program Manager    5 years   \n",
       "1286927       462.61     A        A4       AFJROTC Teacher  10+ years   \n",
       "1809503       347.04     D        D3    Mitchell1 / Snapon    5 years   \n",
       "812250        422.98     B        B3  Elementary Principal  10+ years   \n",
       "\n",
       "        home_ownership  annual_inc verification_status   issue_d  loan_status  \\\n",
       "1204665       MORTGAGE     56000.0     Source Verified  May-2015            1   \n",
       "2233020           RENT    102000.0     Source Verified  Oct-2017            1   \n",
       "1286927       MORTGAGE     50843.0     Source Verified  Mar-2015            1   \n",
       "1809503           RENT     35000.0        Not Verified  Jan-2013            1   \n",
       "812250        MORTGAGE    101000.0        Not Verified  Jan-2016            1   \n",
       "\n",
       "        pymnt_plan             purpose               title zip_code  \\\n",
       "1204665          n  debt_consolidation  Debt consolidation    191xx   \n",
       "2233020          n  debt_consolidation  Debt consolidation    207xx   \n",
       "1286927          n  debt_consolidation  Debt consolidation    272xx   \n",
       "1809503          n         credit_card       Wedding plans    919xx   \n",
       "812250           n    home_improvement    Home improvement    431xx   \n",
       "\n",
       "        addr_state    dti  delinq_2yrs earliest_cr_line  inq_last_6mths  \\\n",
       "1204665         PA  22.03          0.0         Feb-2005             1.0   \n",
       "2233020         MD  14.69          0.0         Jun-2012             1.0   \n",
       "1286927         NC  13.39          0.0         Jan-1993             0.0   \n",
       "1809503         CA  18.56          0.0         Jan-2008             3.0   \n",
       "812250          OH   7.59          0.0         Nov-1986             0.0   \n",
       "\n",
       "         open_acc  pub_rec  revol_bal  revol_util  total_acc  \\\n",
       "1204665      15.0      0.0       6544        35.6       24.0   \n",
       "2233020       6.0      1.0       6534        51.0        9.0   \n",
       "1286927       5.0      0.0       7317        41.8       13.0   \n",
       "1809503      11.0      0.0      12434        56.5       15.0   \n",
       "812250        9.0      0.0      39519        76.3       22.0   \n",
       "\n",
       "        initial_list_status last_credit_pull_d  collections_12_mths_ex_med  \\\n",
       "1204665                   f           Feb-2019                         0.0   \n",
       "2233020                   w           Feb-2019                         0.0   \n",
       "1286927                   w           Nov-2018                         0.0   \n",
       "1809503                   f           Feb-2019                         0.0   \n",
       "812250                    w           Feb-2019                         0.0   \n",
       "\n",
       "         policy_code application_type  acc_now_delinq  tot_coll_amt  \\\n",
       "1204665            1       Individual             0.0           0.0   \n",
       "2233020            1       Individual             0.0         500.0   \n",
       "1286927            1       Individual             0.0           0.0   \n",
       "1809503            1       Individual             0.0           0.0   \n",
       "812250             1       Individual             0.0           0.0   \n",
       "\n",
       "         tot_cur_bal  acc_open_past_24mths  avg_cur_bal  bc_open_to_buy  \\\n",
       "1204665     144804.0                   9.0      10343.0          4768.0   \n",
       "2233020      48974.0                   2.0       8162.0          6266.0   \n",
       "1286927     179716.0                   3.0      35943.0         10183.0   \n",
       "1809503      21798.0                  10.0       1982.0          4358.0   \n",
       "812250      240235.0                   3.0      30029.0          6457.0   \n",
       "\n",
       "         bc_util  chargeoff_within_12_mths  delinq_amnt  mo_sin_old_il_acct  \\\n",
       "1204665     51.3                       0.0          0.0                37.0   \n",
       "2233020     51.0                       0.0          0.0                64.0   \n",
       "1286927     41.8                       0.0          0.0                95.0   \n",
       "1809503     72.2                       0.0          0.0                19.0   \n",
       "812250      84.6                       0.0          0.0               129.0   \n",
       "\n",
       "         mo_sin_old_rev_tl_op  mo_sin_rcnt_rev_tl_op  mo_sin_rcnt_tl  \\\n",
       "1204665                  82.0                    4.0             4.0   \n",
       "2233020                  34.0                   21.0             5.0   \n",
       "1286927                 265.0                    9.0             9.0   \n",
       "1809503                  60.0                    1.0             1.0   \n",
       "812250                  350.0                    8.0             8.0   \n",
       "\n",
       "         mort_acc  mths_since_recent_bc  mths_since_recent_inq  \\\n",
       "1204665       4.0                   4.0                    4.0   \n",
       "2233020       0.0                  21.0                    5.0   \n",
       "1286927       2.0                   9.0                   10.0   \n",
       "1809503       0.0                   1.0                    4.0   \n",
       "812250        3.0                   8.0                    8.0   \n",
       "\n",
       "         num_accts_ever_120_pd  num_actv_bc_tl  num_actv_rev_tl  num_bc_sats  \\\n",
       "1204665                    0.0             2.0              7.0          3.0   \n",
       "2233020                    0.0             4.0              4.0          4.0   \n",
       "1286927                    1.0             2.0              2.0          3.0   \n",
       "1809503                    0.0             6.0              9.0          7.0   \n",
       "812250                     0.0             3.0              6.0          4.0   \n",
       "\n",
       "         num_bc_tl  num_il_tl  num_op_rev_tl  num_rev_accts  \\\n",
       "1204665        3.0        7.0           10.0           13.0   \n",
       "2233020        4.0        5.0            4.0            4.0   \n",
       "1286927        5.0        3.0            3.0            8.0   \n",
       "1809503        7.0        1.0           10.0           14.0   \n",
       "812250         5.0        3.0            7.0           16.0   \n",
       "\n",
       "         num_rev_tl_bal_gt_0  num_sats  num_tl_120dpd_2m  num_tl_30dpd  \\\n",
       "1204665                  7.0      15.0               0.0           0.0   \n",
       "2233020                  4.0       6.0               0.0           0.0   \n",
       "1286927                  2.0       5.0               0.0           0.0   \n",
       "1809503                  9.0      11.0               0.0           0.0   \n",
       "812250                   6.0       9.0               0.0           0.0   \n",
       "\n",
       "         num_tl_90g_dpd_24m  num_tl_op_past_12m  pct_tl_nvr_dlq  \\\n",
       "1204665                 0.0                 4.0           100.0   \n",
       "2233020                 0.0                 1.0           100.0   \n",
       "1286927                 0.0                 2.0            91.7   \n",
       "1809503                 0.0                 6.0           100.0   \n",
       "812250                  0.0                 3.0           100.0   \n",
       "\n",
       "         percent_bc_gt_75  pub_rec_bankruptcies  tax_liens  tot_hi_cred_lim  \\\n",
       "1204665              33.3                   0.0        0.0         180428.0   \n",
       "2233020               0.0                   1.0        0.0          66143.0   \n",
       "1286927              66.7                   0.0        0.0         200799.0   \n",
       "1809503              57.1                   0.0        0.0          34459.0   \n",
       "812250              100.0                   0.0        0.0         260411.0   \n",
       "\n",
       "         total_bal_ex_mort  total_bc_limit  total_il_high_credit_limit  \\\n",
       "1204665            36951.0          9800.0                     35428.0   \n",
       "2233020            48974.0         12800.0                     53343.0   \n",
       "1286927            10915.0         17500.0                     12299.0   \n",
       "1809503            21798.0         15700.0                     12459.0   \n",
       "812250             39519.0         42000.0                         0.0   \n",
       "\n",
       "        hardship_flag disbursement_method  year  \n",
       "1204665             N                Cash  2015  \n",
       "2233020             N                Cash  2017  \n",
       "1286927             N                Cash  2015  \n",
       "1809503             N                Cash  2013  \n",
       "812250              N                Cash  2016  "
      ]
     },
     "execution_count": 9,
     "metadata": {},
     "output_type": "execute_result"
    }
   ],
   "source": [
    "df_clean.head()"
   ]
  },
  {
   "cell_type": "code",
   "execution_count": 10,
   "metadata": {},
   "outputs": [],
   "source": [
    "# Remove further categorical data points that have too many unique values\n",
    "# Will put a strain on the model when trying to one-hot encode.\n",
    "# In addition, I don't think these categorical data points adds much values\n",
    "\n",
    "df_clean = df_clean.drop(['title','earliest_cr_line',\n",
    "                          'last_credit_pull_d','issue_d',\n",
    "                          'zip_code','emp_title','addr_state'],\n",
    "                        axis = 1)"
   ]
  },
  {
   "cell_type": "code",
   "execution_count": 21,
   "metadata": {},
   "outputs": [],
   "source": [
    "y = df_clean['loan_status']\n",
    "X = df_clean.drop(['loan_status'], axis = 1)\n",
    "# One-hot encode categorical variables that are left\n",
    "X = pd.get_dummies(X)"
   ]
  },
  {
   "cell_type": "code",
   "execution_count": 22,
   "metadata": {},
   "outputs": [
    {
     "data": {
      "text/plain": [
       "(330802, 143)"
      ]
     },
     "execution_count": 22,
     "metadata": {},
     "output_type": "execute_result"
    }
   ],
   "source": [
    "X.shape"
   ]
  },
  {
   "cell_type": "code",
   "execution_count": 23,
   "metadata": {},
   "outputs": [],
   "source": [
    "# Instatiate Train_Test_Split\n",
    "X_train, X_test, y_train, y_test = train_test_split(X, y, \n",
    "                                                    test_size=0.2, \n",
    "                                                    stratify = y)\n"
   ]
  },
  {
   "cell_type": "code",
   "execution_count": 14,
   "metadata": {},
   "outputs": [],
   "source": [
    "# One-hot encode categorical variables that are left\n",
    "#X_train = pd.get_dummies(X_train)\n",
    "#X_test = pd.get_dummies(X_test)"
   ]
  },
  {
   "cell_type": "code",
   "execution_count": 25,
   "metadata": {},
   "outputs": [
    {
     "data": {
      "text/plain": [
       "(264641, 143)"
      ]
     },
     "execution_count": 25,
     "metadata": {},
     "output_type": "execute_result"
    }
   ],
   "source": [
    "X_train.shape"
   ]
  },
  {
   "cell_type": "code",
   "execution_count": 26,
   "metadata": {},
   "outputs": [
    {
     "data": {
      "text/plain": [
       "(66161, 143)"
      ]
     },
     "execution_count": 26,
     "metadata": {},
     "output_type": "execute_result"
    }
   ],
   "source": [
    "X_test.shape"
   ]
  },
  {
   "cell_type": "code",
   "execution_count": 15,
   "metadata": {},
   "outputs": [],
   "source": [
    "# List of the various scoring metrics we will observe\n",
    "validation_score_list = []\n",
    "accuracy_score_train = []\n",
    "accuracy_score_test = []\n",
    "recall_list = []\n",
    "precision_list = []\n",
    "f1score_list = []\n",
    "#c_range to figure out optimzied c-value\n",
    "c_range = [.0000001,.000001,.00001,.0001,0.001,0.01,0.1,1]"
   ]
  },
  {
   "cell_type": "code",
   "execution_count": 27,
   "metadata": {},
   "outputs": [
    {
     "name": "stdout",
     "output_type": "stream",
     "text": [
      "Model 1 instatiated.\n",
      "Model 1 fitted.\n",
      "Model 1 predicted.\n",
      "Model 2 instatiated.\n",
      "Model 2 fitted.\n",
      "Model 2 predicted.\n",
      "Model 3 instatiated.\n",
      "Model 3 fitted.\n",
      "Model 3 predicted.\n",
      "Model 4 instatiated.\n",
      "Model 4 fitted.\n",
      "Model 4 predicted.\n",
      "Model 5 instatiated.\n",
      "Model 5 fitted.\n",
      "Model 5 predicted.\n",
      "Model 6 instatiated.\n",
      "Model 6 fitted.\n",
      "Model 6 predicted.\n",
      "Model 7 instatiated.\n",
      "Model 7 fitted.\n",
      "Model 7 predicted.\n",
      "Model 8 instatiated.\n",
      "Model 8 fitted.\n",
      "Model 8 predicted.\n",
      "CPU times: user 51.2 s, sys: 21.7 s, total: 1min 12s\n",
      "Wall time: 1h 24min 9s\n"
     ]
    }
   ],
   "source": [
    "%%time\n",
    "#Model Loop\n",
    "count = 0\n",
    "\n",
    "for c in c_range:\n",
    "    \n",
    "    #Instatiate model\n",
    "    log_reg = LogisticRegression(C=c, n_jobs = -1)\n",
    "    count += 1\n",
    "    print(f'Model {count} instatiated.')\n",
    "    \n",
    "    #append validation score\n",
    "    val_score = np.mean(cross_val_score(log_reg, X_train, y_train, cv = 5))\n",
    "    validation_score_list.append(val_score)\n",
    "    \n",
    "    #Fitting the Model\n",
    "    log_reg.fit(X_train, y_train)\n",
    "    print(f'Model {count} fitted.')\n",
    "    \n",
    "    #Predict \n",
    "    pred_train = log_reg.predict(X_train)\n",
    "    pred_test = log_reg.predict(X_test)\n",
    "    print(f'Model {count} predicted.')\n",
    "    \n",
    "    #Append the Evaluation Metrics List\n",
    "    accuracy_score_train.append(accuracy_score(y_train, pred_train))\n",
    "    accuracy_score_test.append(accuracy_score(y_test, pred_test))\n",
    "    \n",
    "    recall_list.append(recall_score(y_test, pred_test))\n",
    "    precision_list.append(precision_score(y_test, pred_test))\n",
    "    f1score_list.append(f1_score(y_test, pred_test))"
   ]
  },
  {
   "cell_type": "code",
   "execution_count": 33,
   "metadata": {},
   "outputs": [
    {
     "data": {
      "image/png": "[encoded data removed]",
      "text/plain": [
       "<Figure size 432x288 with 1 Axes>"
      ]
     },
     "metadata": {
      "needs_background": "light"
     },
     "output_type": "display_data"
    }
   ],
   "source": [
    "%matplotlib inline\n",
    "plt.figure()\n",
    "#plt.plot(np.log10(c_range), validation_score_list,label=\"Validation Score\",marker='o')\n",
    "plt.plot(np.log10(c_range), recall_list,label=\"Recall Score\",marker='o')\n",
    "plt.plot(np.log10(c_range), precision_list,label=\"Precision Score\",marker='o')\n",
    "plt.plot(np.log10(c_range), f1score_list,label=\"F1 Score\",marker='o')\n",
    "plt.legend()\n",
    "plt.xlabel('Regularization Parameter: C')\n",
    "plt.ylabel('Cross-Validation Score (Average Scores)')\n",
    "plt.show();"
   ]
  },
  {
   "cell_type": "code",
   "execution_count": 32,
   "metadata": {},
   "outputs": [
    {
     "data": {
      "text/plain": [
       "[0.8684190637423099,\n",
       " 0.8684190637423099,\n",
       " 0.8684039481838657,\n",
       " 0.8684190637423099,\n",
       " 0.8684190637423099,\n",
       " 0.8684190637423099,\n",
       " 0.8684059373016113,\n",
       " 0.8684111075839342]"
      ]
     },
     "execution_count": 32,
     "metadata": {},
     "output_type": "execute_result"
    }
   ],
   "source": [
    "precision_list"
   ]
  },
  {
   "cell_type": "code",
   "execution_count": 31,
   "metadata": {},
   "outputs": [
    {
     "data": {
      "text/plain": [
       "[1e-07, 1e-06, 1e-05, 0.0001, 0.001, 0.01, 0.1, 1]"
      ]
     },
     "execution_count": 31,
     "metadata": {},
     "output_type": "execute_result"
    }
   ],
   "source": [
    "c_range"
   ]
  },
  {
   "cell_type": "code",
   "execution_count": 34,
   "metadata": {},
   "outputs": [
    {
     "data": {
      "image/png": "[encoded data removed]",
      "text/plain": [
       "<Figure size 432x288 with 1 Axes>"
      ]
     },
     "metadata": {
      "needs_background": "light"
     },
     "output_type": "display_data"
    }
   ],
   "source": [
    "plt.figure()\n",
    "#plt.plot(np.log10(c_range), validation_score_list,label=\"Validation Score\",marker='o')\n",
    "plt.plot(np.log10(c_range), accuracy_score_train,label=\"train\",marker='o')\n",
    "plt.plot(np.log10(c_range), accuracy_score_test,label=\"test\",marker='o')\n",
    "plt.legend()\n",
    "plt.xlabel('Regularization Parameter: C')\n",
    "plt.ylabel('Cross-Validation Score (Average Scores)')\n",
    "plt.show();"
   ]
  },
  {
   "cell_type": "code",
   "execution_count": 35,
   "metadata": {},
   "outputs": [
    {
     "data": {
      "text/plain": [
       "[0.8683952977807672,\n",
       " 0.8683990764847472,\n",
       " 0.8683990764847472,\n",
       " 0.8683990764847472,\n",
       " 0.8683990764847472,\n",
       " 0.8683952977807672,\n",
       " 0.868391519076787,\n",
       " 0.8683952977807672]"
      ]
     },
     "execution_count": 35,
     "metadata": {},
     "output_type": "execute_result"
    }
   ],
   "source": [
    "accuracy_score_train"
   ]
  },
  {
   "cell_type": "code",
   "execution_count": 36,
   "metadata": {},
   "outputs": [
    {
     "data": {
      "text/plain": [
       "[0.8683967896494914,\n",
       " 0.8683967896494914,\n",
       " 0.8683665603603331,\n",
       " 0.8683967896494914,\n",
       " 0.8683967896494914,\n",
       " 0.8683967896494914,\n",
       " 0.8683816750049123,\n",
       " 0.8683363310711749]"
      ]
     },
     "execution_count": 36,
     "metadata": {},
     "output_type": "execute_result"
    }
   ],
   "source": [
    "accuracy_score_test"
   ]
  },
  {
   "cell_type": "code",
   "execution_count": null,
   "metadata": {},
   "outputs": [],
   "source": []
  },
  {
   "cell_type": "code",
   "execution_count": null,
   "metadata": {},
   "outputs": [],
   "source": []
  }
 ],
 "metadata": {
  "kernelspec": {
   "display_name": "Python 3",
   "language": "python",
   "name": "python3"
  },
  "language_info": {
   "codemirror_mode": {
    "name": "ipython",
    "version": 3
   },
   "file_extension": ".py",
   "mimetype": "text/x-python",
   "name": "python",
   "nbconvert_exporter": "python",
   "pygments_lexer": "ipython3",
   "version": "3.7.6"
  }
 },
 "nbformat": 4,
 "nbformat_minor": 4
}
